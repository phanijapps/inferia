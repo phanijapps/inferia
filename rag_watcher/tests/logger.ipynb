{
 "cells": [
  {
   "cell_type": "code",
   "execution_count": 4,
   "id": "881599c4-72a7-4000-a1f3-45063a111e71",
   "metadata": {},
   "outputs": [],
   "source": [
    "from common_util import setup_logger\n",
    "\n"
   ]
  },
  {
   "cell_type": "code",
   "execution_count": 6,
   "id": "3af02178-b246-415a-9ef8-e3cfafff61b8",
   "metadata": {},
   "outputs": [
    {
     "name": "stderr",
     "output_type": "stream",
     "text": [
      "2024-10-20 13:57:31,497 - root - INFO - Test Log\n"
     ]
    }
   ],
   "source": [
    "logger = setup_logger()\n",
    "\n",
    "logger.info(\"Test Log\")"
   ]
  },
  {
   "cell_type": "code",
   "execution_count": null,
   "id": "92bd22cc-0fc4-4fe2-a9d2-ecb7d2371e0b",
   "metadata": {},
   "outputs": [],
   "source": []
  }
 ],
 "metadata": {
  "kernelspec": {
   "display_name": "Python 3 (ipykernel)",
   "language": "python",
   "name": "python3"
  },
  "language_info": {
   "codemirror_mode": {
    "name": "ipython",
    "version": 3
   },
   "file_extension": ".py",
   "mimetype": "text/x-python",
   "name": "python",
   "nbconvert_exporter": "python",
   "pygments_lexer": "ipython3",
   "version": "3.12.7"
  }
 },
 "nbformat": 4,
 "nbformat_minor": 5
}
